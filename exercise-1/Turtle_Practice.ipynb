{
 "cells": [
  {
   "cell_type": "code",
   "execution_count": null,
   "metadata": {},
   "outputs": [],
   "source": [
    "def count_observations():\n",
    "    file_name = input(\"/Google_Drive/LIS_511/Assignment3/a3-turtle-charter-osowskik\")\n",
    "    num_lines = 0\n",
    "    with open(file_name, 'r') as f:\n",
    "        for line in f:\n",
    "            num_lines +=1\n",
    "    print(\"Number of lines: \")\n",
    "    print(num_lines)\n",
    "count_observations('turtle_charter.py')"
   ]
  },
  {
   "cell_type": "code",
   "execution_count": null,
   "metadata": {},
   "outputs": [],
   "source": []
  }
 ],
 "metadata": {
  "kernelspec": {
   "display_name": "Python 3",
   "language": "python",
   "name": "python3"
  },
  "language_info": {
   "codemirror_mode": {
    "name": "ipython",
    "version": 3
   },
   "file_extension": ".py",
   "mimetype": "text/x-python",
   "name": "python",
   "nbconvert_exporter": "python",
   "pygments_lexer": "ipython3",
   "version": "3.7.1"
  }
 },
 "nbformat": 4,
 "nbformat_minor": 2
}
